{
 "cells": [
  {
   "cell_type": "code",
   "execution_count": null,
   "id": "c6eed05a-76a0-4e13-8317-65f8499a5064",
   "metadata": {},
   "outputs": [
    {
     "name": "stdout",
     "output_type": "stream",
     "text": [
      "/Users/margaretsnape/Documents/Coursera/Imperial/Unstructured Data Analysis/UDA_HW4/code\n"
     ]
    }
   ],
   "source": [
    "# install Pytorch: https://pytorch.org/\n",
    "\n",
    "# import necessary modules\n",
    "import torch \n",
    "import torch.nn as nn\n",
    "import torchvision\n",
    "import torchvision.transforms as transforms\n",
    "import os\n",
    "\n",
    "current_dir = os.getcwd()\n",
    "print(current_dir)\n",
    "# Use our paintings data (Monet & Picasso images)\n",
    "train_images_folder = os.path.abspath(os.path.join(current_dir, '..', 'presplit_data/train/'))\n",
    "validation_images_folder = os.path.abspath(os.path.join(current_dir, '..', 'presplit_data/validation/'))\n",
    "#Create our train and validation dataset \n",
    "train_dataset = torchvision.datasets.ImageFolder(root=train_images_folder,  transform=transforms.Compose([torchvision.transforms.ToTensor(), torchvision.transforms.Resize((256,256))]))\n",
    "validation_dataset = torchvision.datasets.ImageFolder(root=validation_images_folder, transform=transforms.Compose([torchvision.transforms.ToTensor(), torchvision.transforms.Resize((256,256))]))\n",
    "from torch.utils.data import DataLoader"
   ]
  },
  {
   "cell_type": "code",
   "execution_count": 8,
   "id": "7d37b0a3-8f4e-45d3-87af-8cd0782b883a",
   "metadata": {},
   "outputs": [],
   "source": [
    "# divide the dataset into batches\n",
    "train_loader = torch.utils.data.DataLoader(dataset=train_dataset,\n",
    "                                           batch_size=100, \n",
    "                                           shuffle=True)\n",
    "\n",
    "validation_loader = torch.utils.data.DataLoader(dataset=validation_dataset,\n",
    "                                          batch_size=100, \n",
    "                                          shuffle=False)"
   ]
  },
  {
   "cell_type": "code",
   "execution_count": 18,
   "id": "dd03f181-df65-4a4d-a007-57126ce4c4bb",
   "metadata": {},
   "outputs": [],
   "source": [
    "# Convolutional neural network (two convolutional layers)\n",
    "class UDA_CNN(nn.Module):\n",
    "    def __init__(self, num_classes=10):\n",
    "        super(UDA_CNN, self).__init__()\n",
    "        self.layer1 = nn.Sequential(\n",
    "            nn.Conv2d(\n",
    "                    #in_channels = 1,\n",
    "                    in_channels = 3,\n",
    "                    out_channels = 16,\n",
    "                    kernel_size=5,\n",
    "                    stride=1,\n",
    "                    padding=2),\n",
    "            nn.BatchNorm2d(16),\n",
    "            nn.ReLU(),\n",
    "            nn.MaxPool2d(kernel_size=2, stride=2))\n",
    "        self.layer2 = nn.Sequential(\n",
    "            nn.Conv2d(16, 32, kernel_size=5, stride=1, padding=2),\n",
    "            nn.BatchNorm2d(32),\n",
    "            nn.ReLU(),\n",
    "            nn.MaxPool2d(kernel_size=2, stride=2))\n",
    "        #self.fc = nn.Linear(7*7*32, num_classes)\n",
    "        self.fc = nn.Linear(2*256*256, num_classes)\n",
    "        \n",
    "    def forward(self, x):\n",
    "        out = self.layer1(x)\n",
    "        out = self.layer2(out)\n",
    "        out = out.reshape(out.size(0), -1)\n",
    "        out = self.fc(out)\n",
    "        return out\n",
    "      \n",
    "model = UDA_CNN()"
   ]
  },
  {
   "cell_type": "code",
   "execution_count": null,
   "id": "5c5ba3d7-ac26-47ac-8762-bdd6b9f94385",
   "metadata": {},
   "outputs": [],
   "source": [
    "# Loss function\n",
    "criterion = nn.CrossEntropyLoss()\n",
    "# Optimizer to update network parameters\n",
    "optimizer = torch.optim.Adam(model.parameters(), lr=0.001)\n",
    "\n",
    "# Train the model with our images and labels\n",
    "total_step = len(train_loader)\n",
    "for epoch in range(2):\n",
    "    for i, (images, labels) in enumerate(train_loader):\n",
    "        images = images\n",
    "        labels = labels\n",
    "        \n",
    "        # Forward pass\n",
    "        outputs = model(images)\n",
    "        loss = criterion(outputs, labels)\n",
    "        \n",
    "        # Backward and optimize\n",
    "        optimizer.zero_grad()\n",
    "        loss.backward()\n",
    "        optimizer.step()\n",
    "        \n",
    "        if (i+1) % 100 == 0:\n",
    "            print ('Epoch [{}/{}], Step [{}/{}], Loss: {:.4f}' \n",
    "                   .format(epoch+1, 5, i+1, total_step, loss.item()))"
   ]
  },
  {
   "cell_type": "code",
   "execution_count": 22,
   "id": "ed29ed28-6d86-42a5-882e-0c99df7cf100",
   "metadata": {},
   "outputs": [
    {
     "name": "stdout",
     "output_type": "stream",
     "text": [
      "Test Accuracy of the model on the  418  test images: 81.10047846889952 %\n"
     ]
    }
   ],
   "source": [
    "# Test the model\n",
    "model.eval()  # turn off batchnorm layer\n",
    "with torch.no_grad(): # turn off gradient computation\n",
    "    correct = 0\n",
    "    total = 0\n",
    "    for images, labels in validation_loader:\n",
    "        images = images\n",
    "        labels = labels\n",
    "        outputs = model(images)\n",
    "        _, predicted = torch.max(outputs.data, 1)\n",
    "        total += labels.size(0)\n",
    "        correct += (predicted == labels).sum().item()\n",
    "\n",
    "    print('Test Accuracy of the model on the ',total ,' test images: {} %'.format(100 * correct / total))\n",
    "    \n",
    "# Save the model checkpoint\n",
    "torch.save(model.state_dict(), 'model.uda')"
   ]
  }
 ],
 "metadata": {
  "kernelspec": {
   "display_name": "imperial_3_11",
   "language": "python",
   "name": "imperial_3_11"
  },
  "language_info": {
   "codemirror_mode": {
    "name": "ipython",
    "version": 3
   },
   "file_extension": ".py",
   "mimetype": "text/x-python",
   "name": "python",
   "nbconvert_exporter": "python",
   "pygments_lexer": "ipython3",
   "version": "3.11.9"
  }
 },
 "nbformat": 4,
 "nbformat_minor": 5
}
